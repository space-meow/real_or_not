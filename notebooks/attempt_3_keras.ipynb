{
 "cells": [
  {
   "cell_type": "code",
   "execution_count": 47,
   "metadata": {},
   "outputs": [],
   "source": [
    "import re\n",
    "import numpy as np\n",
    "import pandas as pd\n",
    "from keras.models import Sequential\n",
    "from keras.layers import Dense, Dropout, Embedding, Activation\n",
    "from keras.preprocessing.text import Tokenizer\n",
    "from keras.preprocessing.sequence import pad_sequences"
   ]
  },
  {
   "cell_type": "code",
   "execution_count": 2,
   "metadata": {},
   "outputs": [],
   "source": [
    "# Tokenization Regexes\n",
    "number_re = re.compile(r\"(?:\\d+[,\\.\\d]*)?\\d\")\n",
    "punct_re = re.compile(r\"[!@#\\$%\\^&\\*\\(\\)\\-_\\+=\\{\\}\\[\\]:;\\\"',<\\.>\\\\/\\?]\")\n",
    "multi_space_re = re.compile(r\"\\s\\s+\")\n",
    "hashtag_re = re.compile(r\"#[^\\s]+\")"
   ]
  },
  {
   "cell_type": "code",
   "execution_count": 16,
   "metadata": {},
   "outputs": [],
   "source": [
    "def tokenize_texts(texts):\n",
    "    tokenized = []\n",
    "    for text in texts:\n",
    "        text = multi_space_re.sub(\" \", number_re.sub(\"\", punct_re.sub(\"\", hashtag_re.sub(\"\", text.lower())))).strip()\n",
    "        tokenized.append(text)\n",
    "    return tokenized"
   ]
  },
  {
   "cell_type": "code",
   "execution_count": 17,
   "metadata": {},
   "outputs": [],
   "source": [
    "train_df = pd.read_csv(\"data/train.csv\")\n",
    "test_df = pd.read_csv(\"data/test.csv\")"
   ]
  },
  {
   "cell_type": "code",
   "execution_count": 34,
   "metadata": {},
   "outputs": [
    {
     "data": {
      "text/plain": [
       "{0, 1}"
      ]
     },
     "execution_count": 34,
     "metadata": {},
     "output_type": "execute_result"
    }
   ],
   "source": [
    "set(train_df[\"target\"].tolist())"
   ]
  },
  {
   "cell_type": "code",
   "execution_count": 18,
   "metadata": {},
   "outputs": [],
   "source": [
    "train_df[\"tokenized\"] = tokenize_texts(train_df[\"text\"])\n",
    "test_df[\"tokenized\"] = tokenize_texts(test_df[\"text\"])\n",
    "all_texts = train_df[\"tokenized\"].tolist() + test_df[\"tokenized\"].tolist()"
   ]
  },
  {
   "cell_type": "code",
   "execution_count": 26,
   "metadata": {},
   "outputs": [],
   "source": [
    "tokenizer = Tokenizer()\n",
    "tokenizer.fit_on_texts(all_texts)"
   ]
  },
  {
   "cell_type": "code",
   "execution_count": 27,
   "metadata": {},
   "outputs": [],
   "source": [
    "train_tok = tokenizer.texts_to_sequences(train_df[\"tokenized\"])\n",
    "test_tok = tokenizer.texts_to_sequences(test_df[\"tokenized\"])"
   ]
  },
  {
   "cell_type": "code",
   "execution_count": 32,
   "metadata": {},
   "outputs": [],
   "source": [
    "train_tok_pad = pad_sequences(train_tok, maxlen=20)\n",
    "test_tok_pad = pad_sequences(test_tok, maxlen=20)"
   ]
  },
  {
   "cell_type": "code",
   "execution_count": 45,
   "metadata": {},
   "outputs": [],
   "source": [
    "y_train = train_df[\"target\"]"
   ]
  },
  {
   "cell_type": "code",
   "execution_count": 52,
   "metadata": {},
   "outputs": [],
   "source": [
    "y_train = np.asarray(train_df[\"target\"]).astype('float32').reshape((-1,1))"
   ]
  },
  {
   "cell_type": "code",
   "execution_count": 54,
   "metadata": {},
   "outputs": [],
   "source": [
    "model = Sequential()\n",
    "model.add(Dense(512, input_shape=(20,)))\n",
    "model.add(Activation(\"relu\"))\n",
    "model.add(Dropout(0.5))\n",
    "model.add(Dense(1))\n",
    "model.add(Activation(\"sigmoid\"))\n",
    "model.compile(loss='binary_crossentropy', optimizer='adam', metrics=['accuracy'])"
   ]
  },
  {
   "cell_type": "code",
   "execution_count": 55,
   "metadata": {},
   "outputs": [
    {
     "name": "stdout",
     "output_type": "stream",
     "text": [
      "Epoch 1/10\n",
      "238/238 [==============================] - 1s 2ms/step - loss: 331.9374 - accuracy: 0.5450\n",
      "Epoch 2/10\n",
      "238/238 [==============================] - 1s 2ms/step - loss: 144.1091 - accuracy: 0.5502\n",
      "Epoch 3/10\n",
      "238/238 [==============================] - 1s 3ms/step - loss: 59.5233 - accuracy: 0.5569\n",
      "Epoch 4/10\n",
      "238/238 [==============================] - 1s 2ms/step - loss: 28.8264 - accuracy: 0.5525\n",
      "Epoch 5/10\n",
      "238/238 [==============================] - 1s 2ms/step - loss: 14.6771 - accuracy: 0.5575\n",
      "Epoch 6/10\n",
      "238/238 [==============================] - 1s 3ms/step - loss: 10.0331 - accuracy: 0.5526\n",
      "Epoch 7/10\n",
      "238/238 [==============================] - 1s 3ms/step - loss: 7.6878 - accuracy: 0.5449\n",
      "Epoch 8/10\n",
      "238/238 [==============================] - 1s 2ms/step - loss: 6.6505 - accuracy: 0.5479\n",
      "Epoch 9/10\n",
      "238/238 [==============================] - 1s 2ms/step - loss: 5.8144 - accuracy: 0.5485\n",
      "Epoch 10/10\n",
      "238/238 [==============================] - 1s 2ms/step - loss: 5.3572 - accuracy: 0.5464\n"
     ]
    }
   ],
   "source": [
    "history = model.fit(train_tok_pad, y_train, epochs=10)"
   ]
  },
  {
   "cell_type": "code",
   "execution_count": null,
   "metadata": {},
   "outputs": [],
   "source": []
  }
 ],
 "metadata": {
  "kernelspec": {
   "display_name": "Python 3",
   "language": "python",
   "name": "python3"
  },
  "language_info": {
   "codemirror_mode": {
    "name": "ipython",
    "version": 3
   },
   "file_extension": ".py",
   "mimetype": "text/x-python",
   "name": "python",
   "nbconvert_exporter": "python",
   "pygments_lexer": "ipython3",
   "version": "3.7.7"
  }
 },
 "nbformat": 4,
 "nbformat_minor": 4
}
